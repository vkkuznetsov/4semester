{
 "cells": [
  {
   "cell_type": "code",
   "execution_count": 318,
   "metadata": {
    "collapsed": true,
    "ExecuteTime": {
     "start_time": "2023-04-28T19:55:29.480478Z",
     "end_time": "2023-04-28T19:55:29.544862Z"
    }
   },
   "outputs": [],
   "source": [
    "import random\n",
    "\n",
    "import numpy as np\n",
    "from sklearn import datasets\n",
    "from sklearn import svm\n",
    "from sklearn.datasets import load_iris\n",
    "from sklearn.linear_model import LinearRegression\n",
    "from sklearn.metrics import mean_squared_error\n",
    "from sklearn.model_selection import train_test_split\n",
    "from sklearn.metrics import accuracy_score\n",
    "\n",
    "random.seed(5)\n",
    "pairs = {}\n",
    "\n",
    "\n",
    "def create_pairs(n):\n",
    "    mu = 100  # среднее значение для базовой величины\n",
    "    sigma1 = 5  # стандартное отклонение для базовой величины\n",
    "    sigma2 = 10  # стандартное отклонение для роста\n",
    "\n",
    "    for _ in range(n):\n",
    "        base = random.gauss(mu, sigma1)\n",
    "        foot = base / 3.6 + random.gauss(0, 0.5)\n",
    "        height = base * 1.7 + random.gauss(0, sigma2)\n",
    "        pairs[foot] = height\n",
    "\n",
    "\n",
    "# создаем 100 пар\n",
    "create_pairs(100)"
   ]
  },
  {
   "cell_type": "code",
   "execution_count": 319,
   "outputs": [
    {
     "name": "stdout",
     "output_type": "stream",
     "text": [
      "MSE для регрессора из skLearn:  106.679879836589\n"
     ]
    }
   ],
   "source": [
    "# создаем массивы для признаков и целевой переменной\n",
    "X = np.array(list(pairs.keys())).reshape(-1, 1)\n",
    "y = np.array(list(pairs.values()))\n",
    "\n",
    "# создаем объект модели LinearRegression\n",
    "model = LinearRegression()\n",
    "\n",
    "# обучаем модель\n",
    "model.fit(X, y)\n",
    "\n",
    "# получаем предсказания модели на тестовых данных\n",
    "y_pred = model.predict(X)\n",
    "\n",
    "# рассчитываем среднеквадратичную ошибку (MSE)\n",
    "mse_sk_learn = mean_squared_error(y, y_pred)\n",
    "print(\"MSE для регрессора из skLearn: \", mse_sk_learn)"
   ],
   "metadata": {
    "collapsed": false,
    "ExecuteTime": {
     "start_time": "2023-04-28T19:55:29.509957Z",
     "end_time": "2023-04-28T19:55:29.544862Z"
    }
   }
  },
  {
   "cell_type": "code",
   "execution_count": 320,
   "outputs": [
    {
     "name": "stdout",
     "output_type": "stream",
     "text": [
      "Какое MSE у меня получилось 106.6816375114378\n"
     ]
    }
   ],
   "source": [
    "# начальные значения для коэфицентов k и c\n",
    "k = random.uniform(-5, 5)\n",
    "c = random.uniform(-5, 5)\n",
    "\n",
    "\n",
    "# функция высчитывания результата\n",
    "def proceed(x):\n",
    "    return x * k + c\n",
    "\n",
    "\n",
    "# скорость обучения\n",
    "rate = 0.01\n",
    "# количество эпох\n",
    "num_step = 1_000_000\n",
    "\n",
    "# регрессор\n",
    "for i in range(num_step + 1):\n",
    "    x = random.choice(list(pairs.keys()))\n",
    "    true_result = pairs[x]\n",
    "    out = proceed(x)\n",
    "    delta = true_result - out\n",
    "    k += delta * rate * (x - 26.5)\n",
    "    c += delta * rate * 1\n",
    "\n",
    "    # пересчет ошибки каждую 1000\n",
    "    if i % 1000 == 0:\n",
    "        SSE = 0\n",
    "        for j in range(len(pairs)):\n",
    "            x = list(pairs.keys())[j]\n",
    "            true_result = pairs[x]\n",
    "            out = proceed(x)\n",
    "            delta = true_result - out\n",
    "            SSE += delta * delta\n",
    "        MSE_my = SSE / 100  # тк выборка из 100 элементов то и ошибка считается по каждому (100 пар нога-рост)\n",
    "        # изменение скорости обучения\n",
    "        if i % 10_000 == 0:\n",
    "            rate *= 0.9\n",
    "        # вывод mse который получился у меня\n",
    "        if i == 1_000_000:\n",
    "            print(f\"Какое MSE у меня получилось {MSE_my}\")\n"
   ],
   "metadata": {
    "collapsed": false,
    "ExecuteTime": {
     "start_time": "2023-04-28T19:55:29.532895Z",
     "end_time": "2023-04-28T19:55:31.988021Z"
    }
   }
  },
  {
   "cell_type": "code",
   "execution_count": 321,
   "outputs": [
    {
     "name": "stdout",
     "output_type": "stream",
     "text": [
      "MSE у меня получилось 106.6816375114378\n",
      "MSE у skLearn получилось 106.679879836589\n",
      "Разница между моим и sk Learn: 0.0017576748488039584\n"
     ]
    }
   ],
   "source": [
    "print(f\"MSE у меня получилось {MSE_my}\")\n",
    "print(f\"MSE у skLearn получилось {mse_sk_learn}\")\n",
    "print(f\"Разница между моим и sk Learn: {MSE_my - mse_sk_learn}\")"
   ],
   "metadata": {
    "collapsed": false,
    "ExecuteTime": {
     "start_time": "2023-04-28T19:55:31.990016Z",
     "end_time": "2023-04-28T19:55:32.004491Z"
    }
   }
  },
  {
   "cell_type": "code",
   "execution_count": 322,
   "outputs": [
    {
     "name": "stdout",
     "output_type": "stream",
     "text": [
      "MSE:  3890.456585461273\n"
     ]
    }
   ],
   "source": [
    "# загрузка датасета diabetes\n",
    "diabetes = datasets.load_diabetes()\n",
    "\n",
    "# выбираем один входной параметр (среднее артериальное давление)\n",
    "X = diabetes.data[:, 2].reshape(-1, 1)\n",
    "\n",
    "# выбираем целевую переменную (значения глюкозы)\n",
    "y = diabetes.target\n",
    "\n",
    "# создаем объект модели LinearRegression\n",
    "model = LinearRegression()\n",
    "\n",
    "# обучаем модель на обучающих данных\n",
    "model.fit(X, y)\n",
    "\n",
    "# получаем предсказания модели на тестовых данных\n",
    "y_pred = model.predict(X)\n",
    "\n",
    "# рассчитываем среднеквадратичную ошибку (MSE)\n",
    "mse = mean_squared_error(y, y_pred)\n",
    "print(\"MSE: \", mse)\n"
   ],
   "metadata": {
    "collapsed": false,
    "ExecuteTime": {
     "start_time": "2023-04-28T19:55:32.005490Z",
     "end_time": "2023-04-28T19:55:32.060344Z"
    }
   }
  },
  {
   "cell_type": "code",
   "execution_count": 323,
   "outputs": [
    {
     "name": "stdout",
     "output_type": "stream",
     "text": [
      "Какое MSE у меня получилось: 3292.560925367289\n"
     ]
    }
   ],
   "source": [
    "# переопределили входные данные\n",
    "pairs = {X[i][0]: y[i] for i in range(len(X))}\n",
    "# начальные значения для коэфицентов k и c\n",
    "k = random.uniform(-5, 5)\n",
    "c = random.uniform(-5, 5)\n",
    "\n",
    "# функция высчитывания результата\n",
    "def proceed(x):\n",
    "    return x * k + c\n",
    "\n",
    "# скорость обучения\n",
    "rate = 0.1\n",
    "# количество эпох\n",
    "num_step = 1_000_000\n",
    "# mse для ответа\n",
    "ans_mse = 0\n",
    "# регрессор\n",
    "for i in range(num_step + 1):\n",
    "    x = random.choice(list(pairs.keys()))\n",
    "    true_result = pairs[x]\n",
    "    out = proceed(x)\n",
    "    delta = true_result - out\n",
    "    k += delta * rate * (x - 26.5)\n",
    "    c += delta * rate * 1\n",
    "    # пересчет ошибки каждую 1000 итерацию\n",
    "    if i % 10_000 == 0:\n",
    "        # изменение скорости обучения\n",
    "        rate *= 0.8\n",
    "        if i % 1_000_000 == 0:\n",
    "            SSE = 0\n",
    "            for j in range(len(pairs)):\n",
    "                x = list(pairs.keys())[j]\n",
    "                true_result = pairs[x]\n",
    "                out = proceed(x)\n",
    "                delta = true_result - out\n",
    "                SSE += delta * delta\n",
    "            ans_mse = SSE / len(pairs)\n",
    "            # вывод mse который получился у меня\n",
    "            if i % 100_000 == 0 and i != 0 :\n",
    "                print(f\"Какое MSE у меня получилось: {ans_mse}\")"
   ],
   "metadata": {
    "collapsed": false,
    "ExecuteTime": {
     "start_time": "2023-04-28T19:55:32.027430Z",
     "end_time": "2023-04-28T19:55:35.438272Z"
    }
   }
  },
  {
   "cell_type": "code",
   "execution_count": 324,
   "outputs": [
    {
     "name": "stdout",
     "output_type": "stream",
     "text": [
      "MSE у меня получилось 3292.560925367289\n",
      "MSE у skLearn получилось 3890.456585461273\n",
      "Разница между моим и sk Learn: -597.8956600939837\n"
     ]
    }
   ],
   "source": [
    "print(f\"MSE у меня получилось {ans_mse}\")\n",
    "print(f\"MSE у skLearn получилось {mse}\")\n",
    "print(f\"Разница между моим и sk Learn: {ans_mse - mse}\")"
   ],
   "metadata": {
    "collapsed": false,
    "ExecuteTime": {
     "start_time": "2023-04-28T19:55:35.440264Z",
     "end_time": "2023-04-28T19:55:35.494570Z"
    }
   }
  },
  {
   "cell_type": "code",
   "execution_count": 325,
   "outputs": [
    {
     "name": "stdout",
     "output_type": "stream",
     "text": [
      "MSE для 10 входных параметров:  2859.69634758675\n",
      "MSE для 1 параметра, мой регрессор: 3292.560925367289\n",
      "MSE для 1 параметра, sklearn регрессор: 3890.456585461273\n"
     ]
    }
   ],
   "source": [
    "# загрузка датасета diabetes\n",
    "diabetes = datasets.load_diabetes()\n",
    "\n",
    "# выбираем 10 входных параметров\n",
    "X2 = diabetes.data[:, :10]\n",
    "\n",
    "# выбираем целевую переменную (значения глюкозы)\n",
    "y2 = diabetes.target\n",
    "\n",
    "# создаем объект модели LinearRegression\n",
    "model2 = LinearRegression()\n",
    "\n",
    "# обучаем модель на обучающих данных\n",
    "model2.fit(X2, y2)\n",
    "\n",
    "# получаем предсказания модели на тестовых данных\n",
    "y_pred2 = model2.predict(X2)\n",
    "\n",
    "# рассчитываем среднеквадратичную ошибку (MSE)\n",
    "mse2 = mean_squared_error(y2, y_pred2)\n",
    "print(\"MSE для 10 входных параметров: \", mse2)\n",
    "print(\"MSE для 1 параметра, мой регрессор:\", ans_mse)\n",
    "print(\"MSE для 1 параметра, sklearn регрессор:\", mse)"
   ],
   "metadata": {
    "collapsed": false,
    "ExecuteTime": {
     "start_time": "2023-04-28T19:55:35.456223Z",
     "end_time": "2023-04-28T19:55:35.514037Z"
    }
   }
  },
  {
   "cell_type": "code",
   "execution_count": 326,
   "outputs": [],
   "source": [
    "# собственный перцептрон с 2 параметрами\n",
    "\n",
    "class Perceptron2(object):\n",
    "    def __init__(self, eta=0.01, n_iter=10):\n",
    "        self.eta = eta\n",
    "        self.n_iter = n_iter\n",
    "        self.w_ = np.zeros(3)\n",
    "        self.errors_ = []\n",
    "        self.accuracy_ = []\n",
    "\n",
    "    def sigmoid(self, z):\n",
    "        return 1.0 / (1.0 + np.exp(-z))\n",
    "\n",
    "    def net_input(self, X):\n",
    "        return np.dot(X, self.w_[1:]) + self.w_[0]\n",
    "\n",
    "    def predict(self, X):\n",
    "        return np.where(self.sigmoid(self.net_input(X)) >= 0.5, 1, 0)\n",
    "\n",
    "    def fit(self, X, y):\n",
    "\n",
    "        for _ in range(self.n_iter):\n",
    "            errors = 0\n",
    "            y_pred = self.predict(X)\n",
    "            accuracy = accuracy_score(y, y_pred)\n",
    "            self.accuracy_.append(accuracy)\n",
    "            for xi, target in zip(X, y):\n",
    "\n",
    "                output = self.sigmoid(self.net_input(xi))\n",
    "                error = target - output\n",
    "                if target == 0:\n",
    "                    error = -output\n",
    "                elif target == 1:\n",
    "                    error = 1 - output\n",
    "                self.w_[1:] += self.eta * xi * error * output * (1 - output)\n",
    "                self.w_[0] += self.eta * error * output * (1 - output)\n",
    "                errors += int(self.predict(xi) != target)\n",
    "            self.errors_.append(errors)\n",
    "        return self\n"
   ],
   "metadata": {
    "collapsed": false,
    "ExecuteTime": {
     "start_time": "2023-04-28T19:55:35.515033Z",
     "end_time": "2023-04-28T19:55:35.571699Z"
    }
   }
  },
  {
   "cell_type": "code",
   "execution_count": 327,
   "outputs": [],
   "source": [
    "# тот же самый перцептрон только который работает с 4 параметрами\n",
    "\n",
    "\n",
    "\n",
    "class Perceptron3(object):\n",
    "    def __init__(self, eta=0.01, n_iter=10):\n",
    "        self.eta = eta\n",
    "        self.n_iter = n_iter\n",
    "        self.w_ = np.zeros(5)\n",
    "        self.errors_ = []\n",
    "        self.accuracy_ = []\n",
    "\n",
    "    def sigmoid(self, z):\n",
    "        return 1.0 / (1.0 + np.exp(-z))\n",
    "\n",
    "    def net_input(self, X):\n",
    "        return np.dot(X, self.w_[1:]) + self.w_[0]\n",
    "\n",
    "    def predict(self, X):\n",
    "        return np.where(self.sigmoid(self.net_input(X)) >= 0.5, 1, 0)\n",
    "\n",
    "    def fit(self, X, y):\n",
    "\n",
    "        for _ in range(self.n_iter):\n",
    "            errors = 0\n",
    "            y_pred = self.predict(X)\n",
    "            accuracy = accuracy_score(y, y_pred)\n",
    "            self.accuracy_.append(accuracy)\n",
    "            for xi, target in zip(X, y):\n",
    "\n",
    "                output = self.sigmoid(self.net_input(xi))\n",
    "                error = target - output\n",
    "                if target == 0:\n",
    "                    error = -output\n",
    "                elif target == 1:\n",
    "                    error = 1 - output\n",
    "                self.w_[1:] += self.eta * xi * error * output * (1 - output)\n",
    "                self.w_[0] += self.eta * error * output * (1 - output)\n",
    "                errors += int(self.predict(xi) != target)\n",
    "            self.errors_.append(errors)\n",
    "        return self\n",
    "\n"
   ],
   "metadata": {
    "collapsed": false,
    "ExecuteTime": {
     "start_time": "2023-04-28T19:55:35.549759Z",
     "end_time": "2023-04-28T19:55:35.586662Z"
    }
   }
  },
  {
   "cell_type": "code",
   "execution_count": 328,
   "outputs": [
    {
     "name": "stdout",
     "output_type": "stream",
     "text": [
      "Ошибок классификации при использовании 2 параметров: 30.00%\n",
      "Ошибок классификации при использовании 4 параметров: 15.00%\n"
     ]
    }
   ],
   "source": [
    "\n",
    "\n",
    "# загрузка датасета ирисов\n",
    "iris = load_iris()\n",
    "\n",
    "# выбираем только два класса - versicolor и verginica\n",
    "X = iris.data[50:, :4]\n",
    "y = iris.target[50:]\n",
    "\n",
    "# разбиваем данные на обучающую и тестовую выборки\n",
    "X_train, X_test, y_train, y_test = train_test_split(X, y, test_size=0.2, random_state=42)\n",
    "\n",
    "# создаем объект модели svm.LinearSVC с двумя входными параметрами\n",
    "model_2d = svm.LinearSVC(random_state=42, max_iter=5000)\n",
    "model_2d.fit(X_train[:, :2], y_train)  # обучаем модель на обучающих данных с двумя входными параметрами\n",
    "\n",
    "# получаем предсказания модели на тестовых данных\n",
    "y_pred = model_2d.predict(X_test[:, :2])\n",
    "\n",
    "# рассчитываем процент ошибки классификации\n",
    "accuracy = accuracy_score(y_test, y_pred)\n",
    "print(f\"Ошибок классификации при использовании 2 параметров: {1 - accuracy:.2%}\")\n",
    "\n",
    "# создаем объект модели svm.LinearSVC с четырьмя входными параметрами\n",
    "model_4d = svm.LinearSVC(random_state=42, max_iter=5000)\n",
    "model_4d.fit(X_train, y_train)  # обучаем модель на обучающих данных с четырьмя входными параметрами\n",
    "\n",
    "# получаем предсказания модели на тестовых данных\n",
    "y_pred = model_4d.predict(X_test)\n",
    "\n",
    "# рассчитываем процент ошибки классификации\n",
    "accuracy = accuracy_score(y_test, y_pred)\n",
    "print(f\"Ошибок классификации при использовании 4 параметров: {1 - accuracy:.2%}\")\n"
   ],
   "metadata": {
    "collapsed": false,
    "ExecuteTime": {
     "start_time": "2023-04-28T19:55:35.577685Z",
     "end_time": "2023-04-28T19:55:35.626282Z"
    }
   }
  },
  {
   "cell_type": "code",
   "execution_count": 329,
   "outputs": [
    {
     "name": "stdout",
     "output_type": "stream",
     "text": [
      "Мои перцептроны\n",
      "Количесвто ошибочной классификации для 2х параметров: 25.00%\n",
      "Количесвто ошибочной классификации для 4х параметров: 15.00%\n"
     ]
    }
   ],
   "source": [
    "y_train = np.where(y_train == 1, 0, 1)\n",
    "y_test = np.where(y_test == 1, 0, 1)\n",
    "\n",
    "ppn2 = Perceptron2(eta=0.01, n_iter=10000)\n",
    "ppn3 = Perceptron3(eta=0.01, n_iter=100)\n",
    "\n",
    "ppn2.fit(X_train[:, :2], y_train)\n",
    "ppn3.fit(X_train, y_train)\n",
    "\n",
    "\n",
    "\n",
    "y_predict2 = ppn2.predict(X_test[:, :2])\n",
    "y_predict3 = ppn3.predict(X_test)\n",
    "\n",
    "accuracy2 = accuracy_score(y_test, y_predict2)\n",
    "accuracy3 = accuracy_score(y_test, y_predict3)\n",
    "print(\"Мои перцептроны\")\n",
    "print(f\"Количесвто ошибочной классификации для 2х параметров: {1 - accuracy2:.2%}\" )\n",
    "print(f\"Количесвто ошибочной классификации для 4х параметров: {1 - accuracy3:.2%}\" )\n",
    "\n"
   ],
   "metadata": {
    "collapsed": false,
    "ExecuteTime": {
     "start_time": "2023-04-28T19:55:35.622290Z",
     "end_time": "2023-04-28T19:55:56.172542Z"
    }
   }
  },
  {
   "cell_type": "code",
   "execution_count": 329,
   "outputs": [],
   "source": [],
   "metadata": {
    "collapsed": false,
    "ExecuteTime": {
     "start_time": "2023-04-28T19:55:56.175535Z",
     "end_time": "2023-04-28T19:55:56.193619Z"
    }
   }
  }
 ],
 "metadata": {
  "kernelspec": {
   "display_name": "Python 3",
   "language": "python",
   "name": "python3"
  },
  "language_info": {
   "codemirror_mode": {
    "name": "ipython",
    "version": 2
   },
   "file_extension": ".py",
   "mimetype": "text/x-python",
   "name": "python",
   "nbconvert_exporter": "python",
   "pygments_lexer": "ipython2",
   "version": "2.7.6"
  }
 },
 "nbformat": 4,
 "nbformat_minor": 0
}
